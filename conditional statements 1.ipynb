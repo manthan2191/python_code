{
 "cells": [
  {
   "cell_type": "markdown",
   "id": "baf195df",
   "metadata": {},
   "source": [
    "## write a program to print given number is even or odd"
   ]
  },
  {
   "cell_type": "code",
   "execution_count": 2,
   "id": "b1d1516a",
   "metadata": {},
   "outputs": [
    {
     "name": "stdout",
     "output_type": "stream",
     "text": [
      "enter a number3\n",
      "odd\n"
     ]
    }
   ],
   "source": [
    "\n",
    "num=int(input(\"enter a number\"))\n",
    "if num%2 == 0: \n",
    "    print(\"even\")\n",
    "else:\n",
    "        print(\"odd\")"
   ]
  },
  {
   "cell_type": "markdown",
   "id": "8f6346be",
   "metadata": {},
   "source": [
    "## write a program to check given year is leap year or not"
   ]
  },
  {
   "cell_type": "code",
   "execution_count": 1,
   "id": "3dda2109",
   "metadata": {},
   "outputs": [
    {
     "name": "stdout",
     "output_type": "stream",
     "text": [
      "enter a number2002\n",
      "not leap year\n"
     ]
    }
   ],
   "source": [
    "\n",
    "num=int(input(\"enter a number\"))\n",
    "if num%4 == 0:\n",
    "    print(\"leap year\")\n",
    "else:\n",
    "    print(\"not leap year\")\n"
   ]
  },
  {
   "cell_type": "markdown",
   "id": "ac609196",
   "metadata": {},
   "source": [
    "## write a program to find after selling there is profit or loss"
   ]
  },
  {
   "cell_type": "code",
   "execution_count": 2,
   "id": "21598dc7",
   "metadata": {},
   "outputs": [
    {
     "name": "stdout",
     "output_type": "stream",
     "text": [
      "enter selling price of product34\n",
      "enter buying price of product32\n",
      "we are in profit \n"
     ]
    }
   ],
   "source": [
    "\n",
    "a=int(input(\"enter selling price of product\"))\n",
    "b=int(input(\"enter buying price of product\"))\n",
    "if a>b:\n",
    "    print(\"we are in profit \")\n",
    "else:\n",
    "    print(\"we are in loss \") "
   ]
  },
  {
   "cell_type": "markdown",
   "id": "78cba080",
   "metadata": {},
   "source": [
    "## write a program to enter three numbers and find gretest number "
   ]
  },
  {
   "cell_type": "code",
   "execution_count": 3,
   "id": "ca7305e9",
   "metadata": {},
   "outputs": [
    {
     "name": "stdout",
     "output_type": "stream",
     "text": [
      "Enter first number  : 5\n",
      "Enter second number : 4\n",
      "Enter third number  : 7\n",
      "7 is the largest of three numbers.\n"
     ]
    }
   ],
   "source": [
    "\n",
    "a = int(input('Enter first number  : '))\n",
    "b = int(input('Enter second number : '))\n",
    "c = int(input('Enter third number  : '))\n",
    "largest = 0\n",
    "if a > b and a > c :\n",
    "    largest = a\n",
    "elif b > c :\n",
    "    largest = b\n",
    "else :\n",
    "    largest = c\n",
    "print(largest, \"is the largest of three numbers.\")"
   ]
  },
  {
   "cell_type": "markdown",
   "id": "03735bae",
   "metadata": {},
   "source": [
    "## write a program to check whether a person is eligible to vote or not"
   ]
  },
  {
   "cell_type": "code",
   "execution_count": 4,
   "id": "0f58dbd9",
   "metadata": {},
   "outputs": [
    {
     "name": "stdout",
     "output_type": "stream",
     "text": [
      "Enter age of a user: 34\n",
      "User is eligible for voting: \n"
     ]
    }
   ],
   "source": [
    "age = int(input(\"Enter age of a user: \"))\n",
    "\n",
    "if age >= 18:\n",
    "    print(\"User is eligible for voting: \")\n",
    "else:\n",
    "    print(\"User is not eligible for voting: \")\n"
   ]
  },
  {
   "cell_type": "markdown",
   "id": "8600e833",
   "metadata": {},
   "source": [
    "## write a program to check given number is positive or negative"
   ]
  },
  {
   "cell_type": "code",
   "execution_count": 5,
   "id": "5bb6d597",
   "metadata": {},
   "outputs": [
    {
     "name": "stdout",
     "output_type": "stream",
     "text": [
      "enter a number-3\n",
      "given number is negative\n"
     ]
    }
   ],
   "source": [
    "num=int(input(\"enter a number\"))\n",
    "if num<0:\n",
    "    print(\"given number is negative\")\n",
    "else:\n",
    "    print(\"given number is positive\")"
   ]
  },
  {
   "cell_type": "code",
   "execution_count": null,
   "id": "5a0b44e4",
   "metadata": {},
   "outputs": [],
   "source": []
  }
 ],
 "metadata": {
  "kernelspec": {
   "display_name": "Python 3 (ipykernel)",
   "language": "python",
   "name": "python3"
  },
  "language_info": {
   "codemirror_mode": {
    "name": "ipython",
    "version": 3
   },
   "file_extension": ".py",
   "mimetype": "text/x-python",
   "name": "python",
   "nbconvert_exporter": "python",
   "pygments_lexer": "ipython3",
   "version": "3.9.12"
  }
 },
 "nbformat": 4,
 "nbformat_minor": 5
}
