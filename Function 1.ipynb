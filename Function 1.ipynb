{
 "cells": [
  {
   "cell_type": "markdown",
   "id": "f9852d56",
   "metadata": {},
   "source": [
    "#  write a function  to finde the Max of three number."
   ]
  },
  {
   "cell_type": "code",
   "execution_count": 1,
   "id": "3c6bcc08",
   "metadata": {},
   "outputs": [
    {
     "name": "stdout",
     "output_type": "stream",
     "text": [
      "Enter 1st number:30\n",
      "Enter 2nd number:39\n",
      "Enter 3rd number:47\n",
      "Maximum of 3 number is : 47\n"
     ]
    }
   ],
   "source": [
    "def maximum(x,y,z):\n",
    "    print ('Maximum of 3 number is :',max(x,y,z))\n",
    "a=int(input('Enter 1st number:'))\n",
    "b=int(input('Enter 2nd number:'))\n",
    "c=int(input('Enter 3rd number:'))\n",
    "maximum(a,b,c)"
   ]
  },
  {
   "cell_type": "markdown",
   "id": "73ccf81e",
   "metadata": {},
   "source": [
    "# write a function to sum all the number in a list."
   ]
  },
  {
   "cell_type": "code",
   "execution_count": 4,
   "id": "b743e630",
   "metadata": {
    "scrolled": true
   },
   "outputs": [
    {
     "name": "stdout",
     "output_type": "stream",
     "text": [
      "Enter list elements:1 2 3 4 5 6 7 8 9 10\n",
      "sum of all number in list=  55\n"
     ]
    }
   ],
   "source": [
    "def add(n):\n",
    "    i=0\n",
    "    sum=0\n",
    "    while i<len(n):\n",
    "        sum+=n[i]\n",
    "        i+=1\n",
    "    print('sum of all number in list= ',sum)\n",
    "x=list (map(int,input('Enter list elements:').split()))\n",
    "add(x)"
   ]
  },
  {
   "cell_type": "markdown",
   "id": "c2466ba1",
   "metadata": {},
   "source": [
    "# write a function to multiply all the number in a list."
   ]
  },
  {
   "cell_type": "code",
   "execution_count": 6,
   "id": "2a901cff",
   "metadata": {},
   "outputs": [
    {
     "name": "stdout",
     "output_type": "stream",
     "text": [
      "enter list element :5 5\n",
      "Multiplication of all numbers in list=  25\n"
     ]
    }
   ],
   "source": [
    "def mul(n):\n",
    "    i=0\n",
    "    m=1\n",
    "    while i<len(n):\n",
    "        m*=n[i]\n",
    "        i+=1\n",
    "    print('Multiplication of all numbers in list= ',m)\n",
    "x=list(map(int,input('enter list element :').split()))\n",
    "mul(x)"
   ]
  },
  {
   "cell_type": "markdown",
   "id": "c4b9297a",
   "metadata": {},
   "source": [
    "# write a function to reverse a string."
   ]
  },
  {
   "cell_type": "code",
   "execution_count": 1,
   "id": "2bed3c6e",
   "metadata": {},
   "outputs": [
    {
     "name": "stdout",
     "output_type": "stream",
     "text": [
      "Enter the string:manthan\n",
      "Reverse of the string is: nahtnam\n"
     ]
    }
   ],
   "source": [
    "def str(x):\n",
    "    m=x[::-1]\n",
    "    print('Reverse of the string is:',m)\n",
    "\n",
    "n=input('Enter the string:')\n",
    "str(n)"
   ]
  },
  {
   "cell_type": "markdown",
   "id": "59412013",
   "metadata": {},
   "source": [
    "# write a  function to calclulate the factorial of a number."
   ]
  },
  {
   "cell_type": "code",
   "execution_count": 8,
   "id": "41350d34",
   "metadata": {},
   "outputs": [
    {
     "name": "stdout",
     "output_type": "stream",
     "text": [
      "Enter any number: 7\n",
      "Factorial of 7 is:  5040\n"
     ]
    }
   ],
   "source": [
    "def factorial(x):\n",
    "    i=1\n",
    "    fac=1\n",
    "    while i<=x:\n",
    "        fac*=i\n",
    "        i+=1\n",
    "    print('Factorial of',x,'is: ',fac)\n",
    "    \n",
    "n=int(input('Enter any number: '))\n",
    "factorial(n)"
   ]
  },
  {
   "cell_type": "markdown",
   "id": "7b89d471",
   "metadata": {},
   "source": [
    "# write a function that accepts a string and calculate the number of upper case letters and lower case letters."
   ]
  },
  {
   "cell_type": "code",
   "execution_count": 2,
   "id": "e368eb93",
   "metadata": {},
   "outputs": [
    {
     "name": "stdout",
     "output_type": "stream",
     "text": [
      "Enter the string: i am manthan\n",
      "Uppercase letters:  0\n",
      "Lowercase letters:  12\n"
     ]
    }
   ],
   "source": [
    "def upper_lower(x):\n",
    "    c1=0\n",
    "    c2=0\n",
    "    i=0\n",
    "    while i<len(x):\n",
    "        if x[i].isupper()==True:\n",
    "            c1+=1\n",
    "        else:\n",
    "            c2+=1\n",
    "        i+=1\n",
    "    print('Uppercase letters: ',c1)\n",
    "    print('Lowercase letters: ',c2)\n",
    "\n",
    "n=input('Enter the string: ')\n",
    "upper_lower(n)"
   ]
  },
  {
   "cell_type": "markdown",
   "id": "dc810763",
   "metadata": {},
   "source": [
    "# write a function that takes a list and returns a new list with unique element of the first list."
   ]
  },
  {
   "cell_type": "code",
   "execution_count": 10,
   "id": "1dc37a7c",
   "metadata": {},
   "outputs": [
    {
     "name": "stdout",
     "output_type": "stream",
     "text": [
      "Enter list elements: 1 2 3 4 51 2 5 7 8\n",
      "Entered list:  ['1', '2', '3', '4', '51', '2', '5', '7', '8']\n",
      "Unique elements of list are:  ['1', '2', '3', '4', '51', '5', '7', '8']\n"
     ]
    }
   ],
   "source": [
    "def unique(x):\n",
    "    l1=[]\n",
    "    print('Entered list: ',x)\n",
    "    for i in x:\n",
    "        if i not in l1:\n",
    "            l1.append(i)\n",
    "    print('Unique elements of list are: ',l1)\n",
    "\n",
    "n=input('Enter list elements: ').split()\n",
    "unique(n)"
   ]
  },
  {
   "cell_type": "code",
   "execution_count": null,
   "id": "4275be3a",
   "metadata": {},
   "outputs": [],
   "source": []
  }
 ],
 "metadata": {
  "kernelspec": {
   "display_name": "Python 3 (ipykernel)",
   "language": "python",
   "name": "python3"
  },
  "language_info": {
   "codemirror_mode": {
    "name": "ipython",
    "version": 3
   },
   "file_extension": ".py",
   "mimetype": "text/x-python",
   "name": "python",
   "nbconvert_exporter": "python",
   "pygments_lexer": "ipython3",
   "version": "3.9.12"
  }
 },
 "nbformat": 4,
 "nbformat_minor": 5
}
